{
 "cells": [
  {
   "cell_type": "markdown",
   "metadata": {},
   "source": [
    "### Read File"
   ]
  },
  {
   "cell_type": "code",
   "execution_count": null,
   "metadata": {},
   "outputs": [],
   "source": [
    "f = open(\"xxxx\")\n",
    "line = f.readline()\n",
    "data=[]\n",
    "while line:\n",
    "    data.append(line.split('\\t')[0])\n",
    "    line = f.readline()\n",
    "f.close()"
   ]
  },
  {
   "cell_type": "code",
   "execution_count": null,
   "metadata": {},
   "outputs": [],
   "source": [
    "#cant read muti lines\n",
    "# import json\n",
    "# with open(\"test.jsonl\",'r') as load_f:\n",
    "#     load_dict = json.load(load_f)\n",
    "#     print(load_dict)\n",
    "    \n",
    "    \n",
    "lines = []\n",
    "for line in open('test.jsonl', 'r'):\n",
    "    lines.append(json.loads(line))    "
   ]
  },
  {
   "cell_type": "markdown",
   "metadata": {},
   "source": [
    "### Handle Csv"
   ]
  },
  {
   "cell_type": "code",
   "execution_count": null,
   "metadata": {},
   "outputs": [],
   "source": [
    "\n",
    "import csv\n",
    "import numpy as np\n",
    "\n",
    "with open('xxx','r') as csvfile:\n",
    "    reader = csv.reader(csvfile)\n",
    "    rows= []\n",
    "    for row in reader:\n",
    "        rows.append(row)"
   ]
  },
  {
   "cell_type": "markdown",
   "metadata": {},
   "source": [
    "### write file"
   ]
  },
  {
   "cell_type": "code",
   "execution_count": null,
   "metadata": {},
   "outputs": [],
   "source": [
    "fo = open(\"xxxx\", \"w\")\n",
    "for index, i  in enumerate(xtest):\n",
    "    fo.write(str)\n",
    "fo.close()"
   ]
  },
  {
   "cell_type": "markdown",
   "metadata": {},
   "source": [
    "### pickle \n"
   ]
  },
  {
   "cell_type": "code",
   "execution_count": null,
   "metadata": {},
   "outputs": [],
   "source": [
    "import pickle\n",
    "data=[]\n",
    "file_open=open('xxx.txt','wb')\n",
    "pickle.dump(data,file_open)\n",
    "df2.close()\n",
    "\n",
    "\n",
    "file_open=open('xxx.txt','rb')\n",
    "data3=pickle.load(file_open)\n",
    "df.close()"
   ]
  },
  {
   "cell_type": "markdown",
   "metadata": {},
   "source": [
    "### tqdm progressbar"
   ]
  },
  {
   "cell_type": "code",
   "execution_count": null,
   "metadata": {},
   "outputs": [],
   "source": [
    "from tqdm import tqdm\n",
    "#If the operation is manually blocked, it will wrap.\n",
    "try:\n",
    "    with tqdm(...) as t:\n",
    "        for i in t:\n",
    "            ...\n",
    "except KeyboardInterrupt:\n",
    "    t.close()\n",
    "    raise\n",
    "t.close()"
   ]
  },
  {
   "cell_type": "code",
   "execution_count": null,
   "metadata": {},
   "outputs": [],
   "source": []
  }
 ],
 "metadata": {
  "kernelspec": {
   "display_name": "Python 3",
   "language": "python",
   "name": "python3"
  },
  "language_info": {
   "codemirror_mode": {
    "name": "ipython",
    "version": 3
   },
   "file_extension": ".py",
   "mimetype": "text/x-python",
   "name": "python",
   "nbconvert_exporter": "python",
   "pygments_lexer": "ipython3",
   "version": "3.6.9"
  }
 },
 "nbformat": 4,
 "nbformat_minor": 2
}
