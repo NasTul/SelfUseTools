{
 "cells": [
  {
   "cell_type": "markdown",
   "metadata": {},
   "source": [
    "### Read File"
   ]
  },
  {
   "cell_type": "code",
   "execution_count": null,
   "metadata": {},
   "outputs": [],
   "source": [
    "f = open(\"xxxx\")\n",
    "line = f.readline()\n",
    "data=[]\n",
    "while line:\n",
    "    data.append(line.split('\\t')[0])\n",
    "    line = f.readline()\n",
    "f.close()"
   ]
  },
  {
   "cell_type": "code",
   "execution_count": null,
   "metadata": {},
   "outputs": [],
   "source": [
    "#cant read muti lines\n",
    "import json\n",
    "# with open(\"test.jsonl\",'r') as load_f:\n",
    "#     load_dict = json.load(load_f)\n",
    "#     print(load_dict)\n",
    "    \n",
    "    \n",
    "lines = []\n",
    "for line in open('test.jsonl', 'r'):\n",
    "    lines.append(json.loads(line))    "
   ]
  },
  {
   "cell_type": "markdown",
   "metadata": {},
   "source": [
    "### Handle Csv"
   ]
  },
  {
   "cell_type": "code",
   "execution_count": null,
   "metadata": {},
   "outputs": [],
   "source": [
    "\n",
    "import csv\n",
    "import numpy as np\n",
    "\n",
    "with open('xxx','r') as csvfile:\n",
    "    reader = csv.reader(csvfile)\n",
    "    rows= []\n",
    "    for row in reader:\n",
    "        rows.append(row)"
   ]
  },
  {
   "cell_type": "code",
   "execution_count": null,
   "metadata": {},
   "outputs": [],
   "source": [
    "with open(\"botnet_data.csv\",\"w\",newline='') as csvfile: \n",
    "    writer = csv.writer(csvfile)\n",
    "    writer.writerows(new_row)"
   ]
  },
  {
   "cell_type": "markdown",
   "metadata": {},
   "source": [
    "### write file"
   ]
  },
  {
   "cell_type": "code",
   "execution_count": null,
   "metadata": {},
   "outputs": [],
   "source": [
    "fo = open(\"xxxx\", \"w\")\n",
    "for index, i  in enumerate(xtest):\n",
    "    fo.write(i)\n",
    "fo.close()"
   ]
  },
  {
   "cell_type": "markdown",
   "metadata": {},
   "source": [
    "### copy file"
   ]
  },
  {
   "cell_type": "code",
   "execution_count": null,
   "metadata": {},
   "outputs": [],
   "source": [
    "from shutil import copyfile\n",
    "copyfile(source, target)"
   ]
  },
  {
   "cell_type": "code",
   "execution_count": null,
   "metadata": {},
   "outputs": [],
   "source": []
  },
  {
   "cell_type": "markdown",
   "metadata": {},
   "source": [
    "### pickle \n"
   ]
  },
  {
   "cell_type": "code",
   "execution_count": null,
   "metadata": {},
   "outputs": [],
   "source": [
    "import pickle\n",
    "data=[]\n",
    "file_open=open('xxx.txt','wb')\n",
    "pickle.dump(data,file_open)\n",
    "file_open.close()\n",
    "\n",
    "\n",
    "file_open=open('xxx.txt','rb')\n",
    "data3=pickle.load(file_open)\n",
    "file_open.close()"
   ]
  },
  {
   "cell_type": "markdown",
   "metadata": {},
   "source": [
    "### tqdm progressbar"
   ]
  },
  {
   "cell_type": "code",
   "execution_count": null,
   "metadata": {},
   "outputs": [],
   "source": [
    "from tqdm import tqdm\n",
    "#If the operation is manually blocked, it will wrap.\n",
    "try:\n",
    "    with tqdm(...) as t:\n",
    "        for i in t:\n",
    "            ...\n",
    "except KeyboardInterrupt:\n",
    "    t.close()\n",
    "    raise\n",
    "t.close()"
   ]
  },
  {
   "cell_type": "markdown",
   "metadata": {},
   "source": [
    "###  change jupter workspace"
   ]
  },
  {
   "cell_type": "code",
   "execution_count": null,
   "metadata": {},
   "outputs": [],
   "source": [
    "#jupyter notebook --generate-config\n",
    "## The directory to use for notebooks and kernels.\n",
    "#c.NotebookApp.notebook_dir = 'G:'"
   ]
  },
  {
   "cell_type": "markdown",
   "metadata": {},
   "source": [
    "### remove comment"
   ]
  },
  {
   "cell_type": "code",
   "execution_count": null,
   "metadata": {},
   "outputs": [],
   "source": [
    "\n",
    "# RemoveComment(files)"
   ]
  },
  {
   "cell_type": "code",
   "execution_count": null,
   "metadata": {},
   "outputs": [],
   "source": [
    "#remove file comment function\n",
    "# coding:utf-8\n",
    "import os\n",
    "\n",
    "flag = False\n",
    "\n",
    "\n",
    "# Handle Comment of sol source code file(\"//\")\n",
    "# The comment of file will be deleted if exist lines[i]\n",
    "def Handle_single_comment(lines, i):\n",
    "    index = lines[i].find(\"//\")\n",
    "    if index != -1:\n",
    "        # lines[i] = lines[i][0:index]\n",
    "        lines[i] = lines[i].replace(lines[i], '', 1)\n",
    "        lines[i] += ''\n",
    "\n",
    "\n",
    "# @brief: Handle Comment of sol source code file(\"/* */\")\n",
    "# @return -1:the Line is Comment Line,should delete this line\n",
    "# @return -2:Only begin Comment found in this Line\n",
    "# @return  0:Not find Comment\n",
    "def Handle_document_comment(lines, i):\n",
    "    global flag\n",
    "    while True:\n",
    "        if not flag:\n",
    "            index = lines[i].find(\"/*\")\n",
    "            if index != -1:\n",
    "                flag = True\n",
    "                index2 = lines[i].find(\"*/\", index + 2)\n",
    "                if index2 != -1:\n",
    "                    lines[i] = lines[i].replace(lines[i], '', 1)\n",
    "                    flag = False  # continue look for comment\n",
    "                else:\n",
    "                    lines[i] = lines[i].replace(lines[i], '', 1)  # only find \"begin comment\n",
    "                    lines[i] += ''\n",
    "                    return -2\n",
    "            else:\n",
    "                return 0  # not find\n",
    "        else:\n",
    "            index2 = lines[i].find(\"*/\")\n",
    "            if index2 != -1:\n",
    "                flag = False\n",
    "                lines[i] = lines[i].replace(lines[i], '', 1)  # continue look for comment\n",
    "            else:\n",
    "                return -1  # should delete this\n",
    "\n",
    "\n",
    "# @brief: Remove Comment of file\n",
    "# At last print the handled result\n",
    "def RemoveComment(file):\n",
    "    print(file)\n",
    "    global flag\n",
    "    f = open(file, \"r\",encoding='utf-8')\n",
    "    lines = f.readlines()\n",
    "    f.close()\n",
    "    length = len(lines)\n",
    "    i = 0\n",
    "    while i < length:\n",
    "        ret = Handle_document_comment(lines, i)\n",
    "        if ret == -1:\n",
    "            if flag == False:\n",
    "                print(\"There must be some wrong\")\n",
    "            del lines[i]\n",
    "            i -= 1\n",
    "            length -= 1\n",
    "        elif ret == 0:\n",
    "            Handle_single_comment(lines, i)\n",
    "        else:\n",
    "            pass\n",
    "        i += 1\n",
    "\n",
    "    writeResult(file, lines)\n",
    "\n",
    "\n",
    "# write result back to file\n",
    "def writeResult(file, lines):\n",
    "    f = open(file, \"w\")\n",
    "    for line in lines:\n",
    "        if line == '':\n",
    "            continue\n",
    "        f.write(line)\n",
    "    f.close()\n",
    "\n",
    "\n",
    "# remove blank space of source file\n",
    "def deleteBlank(file):\n",
    "    f = open(file, 'r')\n",
    "    fnew = open(file + '1.txt', 'w')\n",
    "    try:\n",
    "        for line in f.readlines():\n",
    "            if line == '':\n",
    "                line = line.strip(\" \")\n",
    "            fnew.write(line)\n",
    "    finally:\n",
    "        f.close()\n",
    "        fnew.close()"
   ]
  }
 ],
 "metadata": {
  "kernelspec": {
   "display_name": "Python 3",
   "language": "python",
   "name": "python3"
  },
  "language_info": {
   "codemirror_mode": {
    "name": "ipython",
    "version": 3
   },
   "file_extension": ".py",
   "mimetype": "text/x-python",
   "name": "python",
   "nbconvert_exporter": "python",
   "pygments_lexer": "ipython3",
   "version": "3.7.6"
  }
 },
 "nbformat": 4,
 "nbformat_minor": 2
}
