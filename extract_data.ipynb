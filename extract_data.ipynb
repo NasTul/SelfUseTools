{
 "cells": [
  {
   "cell_type": "code",
   "execution_count": 7,
   "metadata": {},
   "outputs": [],
   "source": [
    "import os\n",
    "floder = \"./9_projects/\"\n",
    "floder_list = os.listdir(floder)"
   ]
  },
  {
   "cell_type": "code",
   "execution_count": 8,
   "metadata": {},
   "outputs": [
    {
     "data": {
      "text/plain": [
       "['Asterisk',\n",
       " 'FFmpeg',\n",
       " 'Httpd',\n",
       " 'ImageMagick',\n",
       " 'LibPNG',\n",
       " 'LibTIFF',\n",
       " 'OpenSSL',\n",
       " 'Pidgin',\n",
       " 'qemu',\n",
       " 'samba',\n",
       " 'VLC',\n",
       " 'Xen']"
      ]
     },
     "execution_count": 8,
     "metadata": {},
     "output_type": "execute_result"
    }
   ],
   "source": [
    "floder_list"
   ]
  },
  {
   "cell_type": "code",
   "execution_count": 9,
   "metadata": {},
   "outputs": [],
   "source": [
    "import io\n",
    "def extra_data(filename):\n",
    "    data = []\n",
    "    with io.open(filename,'r', encoding='windows-1252') as file:\n",
    "        line = file.readline()\n",
    "        while line:\n",
    "            if line==\"\\n\":\n",
    "                line = file.readline()\n",
    "                continue\n",
    "            line = line.replace(\"\\n\",\"\").replace(\"  \",\"\").replace(\"\\t\",\"\")\n",
    "            data.append(line) \n",
    "            line = file.readline()\n",
    "            \n",
    "    return \" \".join(data)\n"
   ]
  },
  {
   "cell_type": "code",
   "execution_count": null,
   "metadata": {},
   "outputs": [],
   "source": []
  },
  {
   "cell_type": "code",
   "execution_count": null,
   "metadata": {},
   "outputs": [],
   "source": []
  },
  {
   "cell_type": "code",
   "execution_count": 10,
   "metadata": {},
   "outputs": [
    {
     "name": "stdout",
     "output_type": "stream",
     "text": [
      "Asterisk\n",
      "FFmpeg\n",
      "Httpd\n",
      "ImageMagick\n",
      "LibPNG\n",
      "LibTIFF\n",
      "OpenSSL\n",
      "Pidgin\n",
      "qemu\n",
      "samba\n",
      "VLC\n",
      "Xen\n"
     ]
    }
   ],
   "source": [
    "idx=100000\n",
    "all_data=[]\n",
    "for i in floder_list:\n",
    "    print(i)\n",
    "    #if i !='FFmpeg':\n",
    "    filename = floder+i+\"/\"+\"Non_vulnerable_functions/\"\n",
    "    for j in os.listdir(filename):\n",
    "        files = filename+j\n",
    "        data_dic  = {}\n",
    "        data_dic['func'] =  extra_data(files)\n",
    "        data_dic['target'] =  0\n",
    "        data_dic['idx'] =  idx\n",
    "        data_dic['project'] =  i\n",
    "        idx+=1\n",
    "        all_data.append( data_dic )\n",
    "\n",
    "    filename =  floder+i+\"/\"+\"Vulnerable_functions/\"\n",
    "    for j in os.listdir(filename):\n",
    "        files = filename+j\n",
    "        data_dic  = {}\n",
    "        data_dic['func'] =  extra_data(files)\n",
    "        data_dic['target'] =  1\n",
    "        data_dic['idx'] =  idx\n",
    "        data_dic['project'] =  i\n",
    "        idx+=1\n",
    "        all_data.append( data_dic )"
   ]
  },
  {
   "cell_type": "code",
   "execution_count": 11,
   "metadata": {},
   "outputs": [
    {
     "data": {
      "text/plain": [
       "132122"
      ]
     },
     "execution_count": 11,
     "metadata": {},
     "output_type": "execute_result"
    }
   ],
   "source": [
    "len(all_data)"
   ]
  },
  {
   "cell_type": "code",
   "execution_count": 13,
   "metadata": {},
   "outputs": [
    {
     "data": {
      "text/plain": [
       "132122"
      ]
     },
     "execution_count": 13,
     "metadata": {},
     "output_type": "execute_result"
    }
   ],
   "source": [
    "17620 + 94 + 5549 + 249 + 3843 + 57 + 2361 + 344 + 577 + 45 + 726 + 123 + 7004 + 159 + 8549 + 29 + 36064+ 143 + 32846+ 26 + 6019 + 44 + 8981+ 670"
   ]
  },
  {
   "cell_type": "code",
   "execution_count": null,
   "metadata": {},
   "outputs": [],
   "source": []
  },
  {
   "cell_type": "code",
   "execution_count": null,
   "metadata": {},
   "outputs": [],
   "source": []
  },
  {
   "cell_type": "code",
   "execution_count": 38,
   "metadata": {},
   "outputs": [
    {
     "data": {
      "text/plain": [
       "{'func': 'void ast_jb_configure(struct ast_channel *chan, const struct ast_jb_conf *conf) { memcpy(&ast_channel_jb(chan)->conf, conf, sizeof(*conf)); }',\n",
       " 'target': 0,\n",
       " 'idx': 100000,\n",
       " 'project': 'Asterisk'}"
      ]
     },
     "execution_count": 38,
     "metadata": {},
     "output_type": "execute_result"
    }
   ],
   "source": [
    "all_data[0]"
   ]
  },
  {
   "cell_type": "code",
   "execution_count": null,
   "metadata": {},
   "outputs": [],
   "source": []
  },
  {
   "cell_type": "code",
   "execution_count": 22,
   "metadata": {},
   "outputs": [],
   "source": [
    "vulnerable_data = []\n",
    "non_vulnerable_data = []\n",
    "for i in all_data:\n",
    "    if i['target']==0:\n",
    "        non_vulnerable_data.append(i)\n",
    "    else:\n",
    "        vulnerable_data.append(i)"
   ]
  },
  {
   "cell_type": "code",
   "execution_count": 23,
   "metadata": {},
   "outputs": [
    {
     "data": {
      "text/plain": [
       "1983"
      ]
     },
     "execution_count": 23,
     "metadata": {},
     "output_type": "execute_result"
    }
   ],
   "source": [
    "len(vulnerable_data)"
   ]
  },
  {
   "cell_type": "code",
   "execution_count": 24,
   "metadata": {},
   "outputs": [
    {
     "data": {
      "text/plain": [
       "130139"
      ]
     },
     "execution_count": 24,
     "metadata": {},
     "output_type": "execute_result"
    }
   ],
   "source": [
    "len(non_vulnerable_data)"
   ]
  },
  {
   "cell_type": "code",
   "execution_count": 46,
   "metadata": {},
   "outputs": [],
   "source": [
    "# from sklearn.utils import shuffle\n",
    "# shuffle_non_vulnerable_data = shuffle(non_vulnerable_data)\n",
    "# shuffle_non_vulnerable_data = shuffle_non_vulnerable_data[:1983]\n",
    "# combine_data = shuffle_non_vulnerable_data + vulnerable_data\n",
    "# shuffle_combine_data = shuffle(combine_data)\n",
    "\n",
    "# from sklearn.model_selection import train_test_split  \n",
    "\n",
    "# train, test= train_test_split(shuffle_combine_data, test_size=0.2)\n",
    "# dev, test  = train_test_split(test, test_size=0.5)"
   ]
  },
  {
   "cell_type": "code",
   "execution_count": null,
   "metadata": {},
   "outputs": [],
   "source": []
  },
  {
   "cell_type": "code",
   "execution_count": 17,
   "metadata": {},
   "outputs": [],
   "source": [
    "from sklearn.utils import shuffle\n",
    "shuffle_non_vulnerable_data = shuffle(non_vulnerable_data)\n",
    "# shuffle_non_vulnerable_data = shuffle_non_vulnerable_data[:1983]\n",
    "combine_data = shuffle_non_vulnerable_data + vulnerable_data\n",
    "shuffle_combine_data = shuffle(combine_data)\n",
    "\n",
    "from sklearn.model_selection import train_test_split  \n",
    "\n",
    "train, test= train_test_split(shuffle_combine_data, test_size=0.2)\n",
    "dev, test  = train_test_split(test, test_size=0.5)"
   ]
  },
  {
   "cell_type": "code",
   "execution_count": 25,
   "metadata": {},
   "outputs": [
    {
     "data": {
      "text/plain": [
       "105697"
      ]
     },
     "execution_count": 25,
     "metadata": {},
     "output_type": "execute_result"
    }
   ],
   "source": [
    "len(train)"
   ]
  },
  {
   "cell_type": "code",
   "execution_count": 20,
   "metadata": {},
   "outputs": [
    {
     "data": {
      "text/plain": [
       "13212"
      ]
     },
     "execution_count": 20,
     "metadata": {},
     "output_type": "execute_result"
    }
   ],
   "source": [
    "len(dev)"
   ]
  },
  {
   "cell_type": "code",
   "execution_count": 21,
   "metadata": {},
   "outputs": [
    {
     "data": {
      "text/plain": [
       "13213"
      ]
     },
     "execution_count": 21,
     "metadata": {},
     "output_type": "execute_result"
    }
   ],
   "source": [
    "len(test)"
   ]
  },
  {
   "cell_type": "code",
   "execution_count": null,
   "metadata": {},
   "outputs": [],
   "source": []
  },
  {
   "cell_type": "code",
   "execution_count": 52,
   "metadata": {},
   "outputs": [
    {
     "data": {
      "text/plain": [
       "3172"
      ]
     },
     "execution_count": 52,
     "metadata": {},
     "output_type": "execute_result"
    }
   ],
   "source": [
    "len(train)"
   ]
  },
  {
   "cell_type": "code",
   "execution_count": 58,
   "metadata": {},
   "outputs": [
    {
     "data": {
      "text/plain": [
       "397"
      ]
     },
     "execution_count": 58,
     "metadata": {},
     "output_type": "execute_result"
    }
   ],
   "source": [
    "len(dev)"
   ]
  },
  {
   "cell_type": "code",
   "execution_count": 54,
   "metadata": {},
   "outputs": [
    {
     "data": {
      "text/plain": [
       "397"
      ]
     },
     "execution_count": 54,
     "metadata": {},
     "output_type": "execute_result"
    }
   ],
   "source": [
    "len(test)"
   ]
  },
  {
   "cell_type": "code",
   "execution_count": 27,
   "metadata": {},
   "outputs": [],
   "source": [
    "import json\n",
    "lines = []\n",
    "for line in open('train.jsonl', 'r'):\n",
    "    lines.append(json.loads(line))"
   ]
  },
  {
   "cell_type": "code",
   "execution_count": 28,
   "metadata": {},
   "outputs": [
    {
     "data": {
      "text/plain": [
       "105697"
      ]
     },
     "execution_count": 28,
     "metadata": {},
     "output_type": "execute_result"
    }
   ],
   "source": [
    "len(lines)"
   ]
  },
  {
   "cell_type": "code",
   "execution_count": 26,
   "metadata": {},
   "outputs": [],
   "source": [
    "import json\n",
    "\n",
    "for i in train:\n",
    "    b = json.dumps(i)\n",
    "    f2 = open('train.jsonl', 'a')\n",
    "    f2.write(b+\"\\n\")\n",
    "    f2.close()\n",
    "    "
   ]
  },
  {
   "cell_type": "code",
   "execution_count": null,
   "metadata": {},
   "outputs": [],
   "source": [
    "import json\n",
    "\n",
    "for i in dev:\n",
    "    b = json.dumps(i)\n",
    "    f2 = open('valid.jsonl', 'a')\n",
    "    f2.write(b+\"\\n\")\n",
    "    f2.close()"
   ]
  },
  {
   "cell_type": "code",
   "execution_count": null,
   "metadata": {},
   "outputs": [],
   "source": [
    "import json\n",
    "\n",
    "for i in test:\n",
    "    b = json.dumps(i)\n",
    "    f2 = open('test.jsonl', 'a')\n",
    "    f2.write(b+\"\\n\")\n",
    "    f2.close()"
   ]
  },
  {
   "cell_type": "code",
   "execution_count": 60,
   "metadata": {},
   "outputs": [
    {
     "name": "stdout",
     "output_type": "stream",
     "text": [
      "198\n",
      "199\n"
     ]
    }
   ],
   "source": [
    "number = 0\n",
    "non_number = 0\n",
    "for i in test:\n",
    "    if i['target']==0:\n",
    "        number+=1\n",
    "    else:\n",
    "        non_number+=1\n",
    "print(number)\n",
    "print(non_number)"
   ]
  },
  {
   "cell_type": "code",
   "execution_count": null,
   "metadata": {},
   "outputs": [],
   "source": []
  },
  {
   "cell_type": "code",
   "execution_count": null,
   "metadata": {},
   "outputs": [],
   "source": []
  },
  {
   "cell_type": "code",
   "execution_count": 4,
   "metadata": {},
   "outputs": [],
   "source": [
    "\n",
    "import pickle\n",
    "file_open=open('all_project_data_jsonlist_pl.pl','rb')\n",
    "all_data,vulnerable_data,non_vulnerable_data = pickle.load(file_open)\n",
    "file_open.close()"
   ]
  },
  {
   "cell_type": "code",
   "execution_count": 5,
   "metadata": {},
   "outputs": [
    {
     "data": {
      "text/plain": [
       "132122"
      ]
     },
     "execution_count": 5,
     "metadata": {},
     "output_type": "execute_result"
    }
   ],
   "source": [
    "len(all_data)"
   ]
  },
  {
   "cell_type": "code",
   "execution_count": null,
   "metadata": {},
   "outputs": [],
   "source": []
  },
  {
   "cell_type": "code",
   "execution_count": null,
   "metadata": {},
   "outputs": [],
   "source": []
  },
  {
   "cell_type": "code",
   "execution_count": 1,
   "metadata": {},
   "outputs": [],
   "source": [
    "\n",
    "import pickle\n",
    "file_open=open('all_project_data_jsonlist_pl.pl','rb')\n",
    "all_data,vulnerable_data,non_vulnerable_data = pickle.load(file_open)\n",
    "file_open.close()"
   ]
  },
  {
   "cell_type": "code",
   "execution_count": 2,
   "metadata": {},
   "outputs": [
    {
     "data": {
      "text/plain": [
       "132122"
      ]
     },
     "execution_count": 2,
     "metadata": {},
     "output_type": "execute_result"
    }
   ],
   "source": [
    "len(all_data)"
   ]
  },
  {
   "cell_type": "code",
   "execution_count": 4,
   "metadata": {},
   "outputs": [
    {
     "data": {
      "text/plain": [
       "'Asterisk'"
      ]
     },
     "execution_count": 4,
     "metadata": {},
     "output_type": "execute_result"
    }
   ],
   "source": [
    "all_data[0]['project']"
   ]
  },
  {
   "cell_type": "code",
   "execution_count": 5,
   "metadata": {},
   "outputs": [],
   "source": [
    "proj_list = []\n",
    "for i in all_data:\n",
    "    proj_list.append(i['project'])"
   ]
  },
  {
   "cell_type": "code",
   "execution_count": 6,
   "metadata": {},
   "outputs": [
    {
     "data": {
      "text/plain": [
       "{'Asterisk',\n",
       " 'FFmpeg',\n",
       " 'Httpd',\n",
       " 'ImageMagick',\n",
       " 'LibPNG',\n",
       " 'LibTIFF',\n",
       " 'OpenSSL',\n",
       " 'Pidgin',\n",
       " 'VLC',\n",
       " 'Xen',\n",
       " 'qemu',\n",
       " 'samba'}"
      ]
     },
     "execution_count": 6,
     "metadata": {},
     "output_type": "execute_result"
    }
   ],
   "source": [
    "set(proj_list)"
   ]
  },
  {
   "cell_type": "code",
   "execution_count": null,
   "metadata": {},
   "outputs": [],
   "source": []
  }
 ],
 "metadata": {
  "kernelspec": {
   "display_name": "Python 3",
   "language": "python",
   "name": "python3"
  },
  "language_info": {
   "codemirror_mode": {
    "name": "ipython",
    "version": 3
   },
   "file_extension": ".py",
   "mimetype": "text/x-python",
   "name": "python",
   "nbconvert_exporter": "python",
   "pygments_lexer": "ipython3",
   "version": "3.7.6"
  }
 },
 "nbformat": 4,
 "nbformat_minor": 2
}
