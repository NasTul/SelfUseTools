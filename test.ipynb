{
 "cells": [
  {
   "cell_type": "code",
   "execution_count": 3,
   "id": "1f90053a",
   "metadata": {},
   "outputs": [
    {
     "name": "stdout",
     "output_type": "stream",
     "text": [
      "MoviePy - Building file my1111.gif with imageio.\n"
     ]
    },
    {
     "name": "stderr",
     "output_type": "stream",
     "text": [
      "                                                             \r"
     ]
    }
   ],
   "source": [
    "from moviepy.editor import *\n",
    "## generate circle\n",
    "\n",
    "import gizeh\n",
    "import moviepy.editor as mpy\n",
    "\n",
    "W,H = 256,256 # width, height, in pixels\n",
    "duration = 2 # duration of the clip, in seconds\n",
    "\n",
    "def make_frame(t):\n",
    "    surface = gizeh.Surface(W,H,bg_color=(1,1,1,1))\n",
    "    radius = W*(0.1+ (t*(duration-t))**2 )/6\n",
    "    circle = gizeh.circle(radius, xy = (W/2.5,H/2.5), fill=(1,0,0,1))\n",
    "    circle.draw(surface)\n",
    "    \n",
    "    radius = W*(0.1+ (t*(duration-t))**2 )/6\n",
    "    circle = gizeh.circle(radius, xy = (W/1.5,H/2.5), fill=(0,1,0,1))\n",
    "    circle.draw(surface)\n",
    "    \n",
    "    \n",
    "    radius = W*(0.1+ (t*(duration-t))**2 )/6\n",
    "    circle = gizeh.circle(radius, xy = (W/1.9,H/1.5), fill=(0,0,1,1))\n",
    "    circle.draw(surface)\n",
    "    \n",
    "    return surface.get_npimage()\n",
    "\n",
    "clip = mpy.VideoClip(make_frame, duration=duration)\n",
    "\n",
    "\n",
    "clip.write_gif(\"my1111.gif\",fps=20, opt=\"OptimizePlus\", fuzz=10 )"
   ]
  },
  {
   "cell_type": "code",
   "execution_count": 9,
   "id": "df9000d6",
   "metadata": {},
   "outputs": [
    {
     "name": "stdout",
     "output_type": "stream",
     "text": [
      "no more images in GIF file\n"
     ]
    }
   ],
   "source": [
    "from PIL import Image\n",
    "\n",
    "string = 'test'\n",
    "img = Image.open(\"test.gif\")\n",
    "try:\n",
    "    flag = 0\n",
    "    while True:\n",
    "        #获取每一帧\n",
    "        img.seek(flag) \n",
    "        #保存\n",
    "        img.save(string+\"/{}.png\".format(flag))\n",
    "        pic = Image.open(string+\"/{}.png\".format(flag))\n",
    "        #转化\n",
    "        pic = pic.convert(\"RGBA\")\n",
    "        #替换背景为透明\n",
    "#         color = pic.getpixel((0,0))\n",
    "        color = (0, 0, 0, 255)\n",
    "        \n",
    "        \n",
    "        for i in range(pic.size[0]):\n",
    "            \n",
    "             for j in range(pic.size[1]):\n",
    "                dot = (i,j)\n",
    "                rgba = pic.getpixel(dot)\n",
    "                if rgba == color:\n",
    "                    rgba = rgba[:-1] + (0,)\n",
    "                    pic.putpixel(dot, rgba)\n",
    "         #保存\n",
    "        pic.save(string+\"/{}.png\".format(flag))\n",
    "        flag +=1\n",
    "except BaseException as e:\n",
    "    print(e)\n",
    "    pass"
   ]
  },
  {
   "cell_type": "code",
   "execution_count": 10,
   "id": "4d78ab30",
   "metadata": {},
   "outputs": [],
   "source": [
    "from PIL import Image\n",
    "import os\n",
    "photo_list = []\n",
    "#获取保存的PNG图像\n",
    "pic_list = os.listdir(string+\"/\")\n",
    "#对图像List排序，防止图像位置错乱\n",
    "pic_list.sort(key=lambda x:int(x[:-4]))\n",
    "for k in pic_list:\n",
    "    pic_p = Image.open(string+\"/{}\".format(k))\n",
    "    photo_list.append(pic_p)\n",
    "#保存图像，disposal可以为2或者3，但是不能为1或0，切记，其他自定义未尝试\n",
    "photo_list[0].save(string+\".gif\", save_all=True, append_images=photo_list[1:],duration=40,transparency=0,loop=0,disposal=3)"
   ]
  },
  {
   "cell_type": "code",
   "execution_count": null,
   "id": "b58425fe",
   "metadata": {},
   "outputs": [],
   "source": []
  },
  {
   "cell_type": "code",
   "execution_count": null,
   "id": "36f47567",
   "metadata": {},
   "outputs": [],
   "source": [
    "### \n",
    "\n",
    "\n",
    "import numpy as np\n",
    "import gizeh\n",
    "import moviepy.editor as mpy\n",
    "\n",
    "W,H = 128,128\n",
    "duration = 2\n",
    "ncircles = 20 # Number of circles\n",
    "\n",
    "def make_frame(t):\n",
    "\n",
    "    surface = gizeh.Surface(W,H)\n",
    "\n",
    "    for i in range(ncircles):\n",
    "        angle = 2*np.pi*(1.0*i/ncircles+t/duration)\n",
    "        center = W*( 0.5+ gizeh.polar2cart(0.1,angle))\n",
    "        circle = gizeh.circle(r= W*(1.0-1.0*i/ncircles),\n",
    "                              xy= center, fill= (i%2,i%20,i%2))\n",
    "        circle.draw(surface)\n",
    "\n",
    "    return surface.get_npimage()\n",
    "\n",
    "clip = mpy.VideoClip(make_frame, duration=duration)\n",
    "clip.write_gif(\"circles2.gif\",fps=20, opt=\"OptimizePlus\", fuzz=10)"
   ]
  },
  {
   "cell_type": "code",
   "execution_count": null,
   "id": "a3f057dd",
   "metadata": {},
   "outputs": [],
   "source": []
  },
  {
   "cell_type": "code",
   "execution_count": null,
   "id": "41ff75c3",
   "metadata": {},
   "outputs": [],
   "source": []
  },
  {
   "cell_type": "code",
   "execution_count": 31,
   "id": "aaf26b54",
   "metadata": {},
   "outputs": [
    {
     "name": "stdout",
     "output_type": "stream",
     "text": [
      "MoviePy - Building file test.gif with imageio.\n"
     ]
    },
    {
     "name": "stderr",
     "output_type": "stream",
     "text": [
      "                                                            \r"
     ]
    }
   ],
   "source": [
    "from moviepy.editor import *\n",
    "## generate circle\n",
    "\n",
    "import gizeh\n",
    "import moviepy.editor as mpy\n",
    "\n",
    "arr = []\n",
    "W,H = 512,1024 # width, height, in pixels\n",
    "duration = 1 # duration of the clip, in seconds\n",
    "\n",
    "def make_frame(t):\n",
    "    alpha = (t*(duration-t))*4*0.6+0.2\n",
    "    arr.append(alpha)\n",
    "    surface = gizeh.Surface(W,H,bg_color=(0,0,0,1))\n",
    "\n",
    "    square = gizeh.square(l=1024, fill=(1,0,0,alpha), xy = (W/2,H/2))    \n",
    "    \n",
    "    square.draw(surface)\n",
    "    \n",
    "    return surface.get_npimage()\n",
    "\n",
    "clip = mpy.VideoClip(make_frame, duration=duration)\n",
    "\n",
    "\n",
    "clip.write_gif(\"test.gif\",fps=20, opt=\"OptimizePlus\", fuzz=10 )"
   ]
  },
  {
   "cell_type": "code",
   "execution_count": 33,
   "id": "240e5bc7",
   "metadata": {},
   "outputs": [
    {
     "data": {
      "text/plain": [
       "[0.2,\n",
       " 0.2,\n",
       " 0.314,\n",
       " 0.41600000000000004,\n",
       " 0.506,\n",
       " 0.5840000000000001,\n",
       " 0.6499999999999999,\n",
       " 0.704,\n",
       " 0.746,\n",
       " 0.776,\n",
       " 0.794,\n",
       " 0.8,\n",
       " 0.794,\n",
       " 0.776,\n",
       " 0.746,\n",
       " 0.704,\n",
       " 0.6499999999999999,\n",
       " 0.584,\n",
       " 0.5059999999999999,\n",
       " 0.4159999999999999,\n",
       " 0.31399999999999983]"
      ]
     },
     "execution_count": 33,
     "metadata": {},
     "output_type": "execute_result"
    }
   ],
   "source": [
    "arr"
   ]
  },
  {
   "cell_type": "code",
   "execution_count": null,
   "id": "9c02f127",
   "metadata": {},
   "outputs": [],
   "source": []
  },
  {
   "cell_type": "code",
   "execution_count": 34,
   "id": "51615a93",
   "metadata": {},
   "outputs": [
    {
     "name": "stdout",
     "output_type": "stream",
     "text": [
      "Moviepy - Building video test.mp4.\n",
      "Moviepy - Writing video test.mp4\n",
      "\n"
     ]
    },
    {
     "name": "stderr",
     "output_type": "stream",
     "text": [
      "                                                                 \r"
     ]
    },
    {
     "name": "stdout",
     "output_type": "stream",
     "text": [
      "Moviepy - Done !\n",
      "Moviepy - video ready test.mp4\n"
     ]
    }
   ],
   "source": [
    "final_clip = concatenate_videoclips([clip,clip,clip,clip,clip,clip,clip,clip])\n",
    "final_clip = concatenate_videoclips([final_clip,final_clip,final_clip,final_clip,final_clip])\n",
    "final_clip.write_videofile(\"test.mp4\", fps=30) # export as video"
   ]
  },
  {
   "cell_type": "code",
   "execution_count": 12,
   "id": "8d5db6eb",
   "metadata": {},
   "outputs": [
    {
     "name": "stdout",
     "output_type": "stream",
     "text": [
      "Moviepy - Building video test.mp4.\n",
      "Moviepy - Writing video test.mp4\n",
      "\n"
     ]
    },
    {
     "name": "stderr",
     "output_type": "stream",
     "text": [
      "                                                            \r"
     ]
    },
    {
     "name": "stdout",
     "output_type": "stream",
     "text": [
      "Moviepy - Done !\n",
      "Moviepy - video ready test.mp4\n"
     ]
    }
   ],
   "source": [
    "clip.write_videofile(\"test.mp4\", fps=30) # export as video"
   ]
  },
  {
   "cell_type": "code",
   "execution_count": 20,
   "id": "779b3ed0",
   "metadata": {},
   "outputs": [
    {
     "data": {
      "text/plain": [
       "[<matplotlib.lines.Line2D at 0x248aed30a08>]"
      ]
     },
     "execution_count": 20,
     "metadata": {},
     "output_type": "execute_result"
    },
    {
     "data": {
      "image/png": "[encoded data removed]",
      "text/plain": [
       "<Figure size 432x288 with 1 Axes>"
      ]
     },
     "metadata": {
      "needs_background": "light"
     },
     "output_type": "display_data"
    }
   ],
   "source": [
    "import matplotlib.pyplot as plt\n",
    "\n",
    "arr_ = [i*0.6 + 0.3 for  i in arr]\n",
    "\n",
    "plt.plot(arr_)"
   ]
  },
  {
   "cell_type": "code",
   "execution_count": 27,
   "id": "995ef637",
   "metadata": {},
   "outputs": [
    {
     "data": {
      "text/plain": [
       "[0,\n",
       " 0.0,\n",
       " 0.0475,\n",
       " 0.09000000000000001,\n",
       " 0.1275,\n",
       " 0.16000000000000003,\n",
       " 0.1875,\n",
       " 0.21000000000000002,\n",
       " 0.22749999999999998,\n",
       " 0.24,\n",
       " 0.24750000000000003,\n",
       " 0.25,\n",
       " 0.2475,\n",
       " 0.24,\n",
       " 0.22749999999999998,\n",
       " 0.20999999999999996,\n",
       " 0.1875,\n",
       " 0.15999999999999998,\n",
       " 0.12749999999999995,\n",
       " 0.08999999999999998,\n",
       " 0.04749999999999994]"
      ]
     },
     "execution_count": 27,
     "metadata": {},
     "output_type": "execute_result"
    }
   ],
   "source": []
  },
  {
   "cell_type": "code",
   "execution_count": null,
   "id": "154d7ffe",
   "metadata": {},
   "outputs": [],
   "source": []
  },
  {
   "cell_type": "code",
   "execution_count": 37,
   "id": "ee931291",
   "metadata": {},
   "outputs": [],
   "source": [
    "# Import everything needed to edit video clips\n",
    "from moviepy.editor import *\n",
    "\n",
    "# Load myHolidays.mp4 and select the subclip 00:00:50 - 00:00:60\n",
    "clip = VideoFileClip(\"1.mp4\").subclip(3,12)"
   ]
  },
  {
   "cell_type": "code",
   "execution_count": 39,
   "id": "22ca0cec",
   "metadata": {},
   "outputs": [
    {
     "name": "stderr",
     "output_type": "stream",
     "text": [
      "chunk: 100%|█████████▉| 220/221 [00:37<00:00, 561.26it/s, now=None]"
     ]
    },
    {
     "name": "stdout",
     "output_type": "stream",
     "text": [
      "Moviepy - Building video a.mp4.\n",
      "MoviePy - Writing audio in aTEMP_MPY_wvf_snd.mp3\n"
     ]
    },
    {
     "name": "stderr",
     "output_type": "stream",
     "text": [
      "\n",
      "chunk:   0%|          | 0/199 [00:00<?, ?it/s, now=None]\u001b[A\n",
      "chunk:   1%|          | 2/199 [00:00<00:28,  6.90it/s, now=None]\u001b[A\n",
      "chunk: 100%|█████████▉| 220/221 [00:37<00:00, 561.26it/s, now=None]"
     ]
    },
    {
     "name": "stdout",
     "output_type": "stream",
     "text": [
      "MoviePy - Done.\n",
      "Moviepy - Writing video a.mp4\n",
      "\n"
     ]
    },
    {
     "name": "stderr",
     "output_type": "stream",
     "text": [
      "\n",
      "t:   0%|          | 0/270 [00:00<?, ?it/s, now=None]\u001b[A\n",
      "t:   1%|          | 2/270 [00:00<00:47,  5.68it/s, now=None]\u001b[A\n",
      "t:  12%|█▏        | 32/270 [00:00<00:02, 89.71it/s, now=None]\u001b[A\n",
      "t:  21%|██        | 57/270 [00:00<00:01, 135.28it/s, now=None]\u001b[A\n",
      "t:  29%|██▉       | 78/270 [00:00<00:01, 153.91it/s, now=None]\u001b[A\n",
      "t:  37%|███▋      | 99/270 [00:00<00:01, 167.74it/s, now=None]\u001b[A\n",
      "t:  45%|████▍     | 121/270 [00:00<00:00, 180.79it/s, now=None]\u001b[A\n",
      "t:  53%|█████▎    | 142/270 [00:00<00:00, 181.37it/s, now=None]\u001b[A\n",
      "t:  61%|██████    | 164/270 [00:01<00:00, 191.27it/s, now=None]\u001b[A\n",
      "t:  69%|██████▊   | 185/270 [00:01<00:00, 184.95it/s, now=None]\u001b[A\n",
      "t:  76%|███████▌  | 205/270 [00:01<00:00, 186.55it/s, now=None]\u001b[A\n",
      "t:  84%|████████▎ | 226/270 [00:01<00:00, 191.01it/s, now=None]\u001b[A\n",
      "t:  92%|█████████▏| 249/270 [00:01<00:00, 200.40it/s, now=None]\u001b[A\n",
      "t: 100%|██████████| 270/270 [00:01<00:00, 194.76it/s, now=None]\u001b[A\n",
      "chunk: 100%|█████████▉| 220/221 [00:39<00:00, 561.26it/s, now=None]"
     ]
    },
    {
     "name": "stdout",
     "output_type": "stream",
     "text": [
      "Moviepy - Done !\n",
      "Moviepy - video ready a.mp4\n"
     ]
    }
   ],
   "source": [
    "clip.write_videofile(\"a.mp4\")"
   ]
  },
  {
   "cell_type": "code",
   "execution_count": null,
   "id": "8c744b26",
   "metadata": {},
   "outputs": [],
   "source": []
  },
  {
   "cell_type": "code",
   "execution_count": null,
   "id": "0449133c",
   "metadata": {},
   "outputs": [],
   "source": []
  },
  {
   "cell_type": "code",
   "execution_count": null,
   "id": "be29fbf6",
   "metadata": {},
   "outputs": [],
   "source": []
  },
  {
   "cell_type": "code",
   "execution_count": null,
   "id": "ee011cb2",
   "metadata": {},
   "outputs": [],
   "source": []
  },
  {
   "cell_type": "code",
   "execution_count": null,
   "id": "18903862",
   "metadata": {},
   "outputs": [],
   "source": []
  }
 ],
 "metadata": {
  "kernelspec": {
   "display_name": "Python 3 (ipykernel)",
   "language": "python",
   "name": "python3"
  },
  "language_info": {
   "codemirror_mode": {
    "name": "ipython",
    "version": 3
   },
   "file_extension": ".py",
   "mimetype": "text/x-python",
   "name": "python",
   "nbconvert_exporter": "python",
   "pygments_lexer": "ipython3",
   "version": "3.7.11"
  }
 },
 "nbformat": 4,
 "nbformat_minor": 5
}
