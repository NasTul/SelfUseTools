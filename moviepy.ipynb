{
 "cells": [
  {
   "cell_type": "code",
   "execution_count": 1,
   "id": "da136838",
   "metadata": {},
   "outputs": [],
   "source": [
    "from moviepy.editor import *\n"
   ]
  },
  {
   "cell_type": "code",
   "execution_count": 2,
   "id": "b49a7849",
   "metadata": {},
   "outputs": [],
   "source": [
    "clip = VideoFileClip(\"F:/PPGCoding/cohface/1/0/data.avi\").subclip(30,40)"
   ]
  },
  {
   "cell_type": "code",
   "execution_count": 3,
   "id": "c3074e30",
   "metadata": {},
   "outputs": [
    {
     "data": {
      "text/plain": [
       "<moviepy.video.io.VideoFileClip.VideoFileClip at 0x26f67170448>"
      ]
     },
     "execution_count": 3,
     "metadata": {},
     "output_type": "execute_result"
    }
   ],
   "source": [
    "clip"
   ]
  },
  {
   "cell_type": "code",
   "execution_count": 8,
   "id": "82e7a2be",
   "metadata": {},
   "outputs": [
    {
     "name": "stdout",
     "output_type": "stream",
     "text": [
      "Moviepy - Building video myHolidays_edited.webm.\n",
      "Moviepy - Writing video myHolidays_edited.webm\n",
      "\n"
     ]
    },
    {
     "name": "stderr",
     "output_type": "stream",
     "text": [
      "                                                               "
     ]
    },
    {
     "name": "stdout",
     "output_type": "stream",
     "text": [
      "Moviepy - Done !\n",
      "Moviepy - video ready myHolidays_edited.webm\n"
     ]
    },
    {
     "name": "stderr",
     "output_type": "stream",
     "text": [
      "\r"
     ]
    }
   ],
   "source": [
    "# txt_clip = TextClip(\"My Holidays 2013\",fontsize=10,color='white')\n",
    "# txt_clip = txt_clip.set_pos('center').set_duration(10)\n",
    "# video = CompositeVideoClip([clip, txt_clip])\n",
    "# video.write_videofile(\"myHolidays_edited.webm\")\n"
   ]
  },
  {
   "cell_type": "code",
   "execution_count": 7,
   "id": "c89cb746",
   "metadata": {},
   "outputs": [
    {
     "data": {
      "text/plain": [
       "<moviepy.video.compositing.CompositeVideoClip.CompositeVideoClip at 0x22c2e4b7448>"
      ]
     },
     "execution_count": 7,
     "metadata": {},
     "output_type": "execute_result"
    }
   ],
   "source": [
    "video"
   ]
  },
  {
   "cell_type": "code",
   "execution_count": null,
   "id": "8c6e4b80",
   "metadata": {},
   "outputs": [],
   "source": [
    "# detect face center\n",
    "\n",
    "\n",
    "# from moviepy.editor import VideoFileClip\n",
    "# from moviepy.video.tools.tracking import manual_tracking\n",
    "# clip = VideoFileClip(\"F:/PPGCoding/cohface/1/0/data.avi\").subclip(30,40)\n",
    "# # manually indicate 3 trajectories, save them to a file\n",
    "# trajectories = manual_tracking(clip, t1=5, t2=7, fps=5,\n",
    "#                                    nobjects=3, savefile=\"track.txt\")\n",
    "# # ...\n",
    "# # LATER, IN ANOTHER SCRIPT, RECOVER THESE TRAJECTORIES\n",
    "# from moviepy.video.tools.tracking import Trajectory\n",
    "# traj1, traj2, traj3 = Trajectory.load_list('track.txt')\n",
    "# # If ever you only have one object being tracked, recover it with\n",
    "# traj, =  Trajectory.load_list('track.txt')"
   ]
  },
  {
   "cell_type": "code",
   "execution_count": null,
   "id": "1c0e9d11",
   "metadata": {},
   "outputs": [],
   "source": []
  },
  {
   "cell_type": "code",
   "execution_count": 35,
   "id": "c4db83f5",
   "metadata": {},
   "outputs": [
    {
     "name": "stderr",
     "output_type": "stream",
     "text": [
      "                                                               \r"
     ]
    },
    {
     "name": "stdout",
     "output_type": "stream",
     "text": [
      "MoviePy - Building file circle2.gif with imageio.\n"
     ]
    },
    {
     "name": "stderr",
     "output_type": "stream",
     "text": [
      "                                                   \r"
     ]
    }
   ],
   "source": [
    "import gizeh\n",
    "import moviepy.editor as mpy\n",
    "\n",
    "W,H = 128,128 # width, height, in pixels\n",
    "duration = 2 # duration of the clip, in seconds\n",
    "\n",
    "def make_frame(t):\n",
    "    surface = gizeh.Surface(W,H,bg_color=(0,0,0,0))\n",
    "    radius = W*(1+ (t*(duration-t))**2 )/6\n",
    "    circle = gizeh.circle(radius, xy = (W/2,H/2), fill=(1,0,0,1))\n",
    "    circle.draw(surface)\n",
    "    return surface.get_npimage()\n",
    "\n",
    "clip = mpy.VideoClip(make_frame, duration=duration)\n",
    "\n",
    "\n",
    "# clip.write_videofile(\"myHolidays_edited.webm\",fps=15)\n",
    "# clip1 = VideoFileClip(\"F:/PPGCoding/cohface/1/0/data.avi\").subclip(30,40)\n",
    "# video = CompositeVideoClip([clip1, clip])\n",
    "# video.write_videofile(\"myHolidays_edited.webm\")\n",
    "clip.write_gif(\"circle2.gif\",fps=20, opt=\"OptimizePlus\", fuzz=10 )"
   ]
  },
  {
   "cell_type": "code",
   "execution_count": null,
   "id": "007bb061",
   "metadata": {},
   "outputs": [],
   "source": [
    "import gizeh\n",
    "import moviepy.editor as mpy\n",
    "\n",
    "clip1 = VideoFileClip(\"F:/PPGCoding/cohface/1/0/data.avi\").subclip(30,40)\n",
    "# video = CompositeVideoClip([clip1, clip])\n",
    "# video.write_videofile(\"myHolidays_edited.webm\")\n",
    "txtClip = TextClip('Cool effect',color=(0,0,0), font=\"Amiri-Bold\",\n",
    "                   kerning = 5, fontsize=100)\n",
    "\n",
    "video = CompositeVideoClip( [clip1,txtClip.set_pos('center').set_duration(10)])\n",
    "\n",
    "video.write_videofile(\"myHolidays_edited.webm\")"
   ]
  },
  {
   "cell_type": "code",
   "execution_count": null,
   "id": "4ec55dda",
   "metadata": {},
   "outputs": [],
   "source": []
  },
  {
   "cell_type": "code",
   "execution_count": null,
   "id": "8915322a",
   "metadata": {},
   "outputs": [],
   "source": []
  },
  {
   "cell_type": "code",
   "execution_count": 60,
   "id": "bdc1f648",
   "metadata": {},
   "outputs": [
    {
     "name": "stdout",
     "output_type": "stream",
     "text": [
      "no more images in GIF file\n"
     ]
    }
   ],
   "source": [
    "from PIL import Image\n",
    "  \n",
    "img = Image.open(\"circle.gif\")\n",
    "try:\n",
    "    flag = 0\n",
    "    while True:\n",
    "        #获取每一帧\n",
    "        img.seek(flag) \n",
    "        #保存\n",
    "        img.save(\"pics1/{}.png\".format(flag))\n",
    "        pic = Image.open(\"pics1/{}.png\".format(flag))\n",
    "        #转化\n",
    "        pic = pic.convert(\"RGBA\")\n",
    "        #替换背景为透明\n",
    "        color = pic.getpixel((0,0))\n",
    "        for i in range(pic.size[0]):\n",
    "             for j in range(pic.size[1]):\n",
    "                dot = (i,j)\n",
    "                rgba = pic.getpixel(dot)\n",
    "                if rgba == color:\n",
    "                    rgba = rgba[:-1] + (0,)\n",
    "                    pic.putpixel(dot, rgba)\n",
    "         #保存\n",
    "        pic.save(\"pics1/{}.png\".format(flag))\n",
    "        flag +=1\n",
    "except BaseException as e:\n",
    "    print(e)\n",
    "    pass"
   ]
  },
  {
   "cell_type": "code",
   "execution_count": 58,
   "id": "ec789991",
   "metadata": {},
   "outputs": [],
   "source": [
    "from PIL import Image\n",
    "import os\n",
    "photo_list = []\n",
    "#获取保存的PNG图像\n",
    "pic_list = os.listdir(\"pics1/\")\n",
    "#对图像List排序，防止图像位置错乱\n",
    "pic_list.sort(key=lambda x:int(x[:-4]))\n",
    "for k in pic_list:\n",
    "    pic_p = Image.open(\"pics/{}\".format(k))\n",
    "    photo_list.append(pic_p)\n",
    "#保存图像，disposal可以为2或者3，但是不能为1或0，切记，其他自定义未尝试\n",
    "photo_list[0].save(\"dabai_new.gif\", save_all=True, append_images=photo_list[1:],duration=40,transparency=0,loop=0,disposal=3)\n"
   ]
  },
  {
   "cell_type": "code",
   "execution_count": 50,
   "id": "dde25630",
   "metadata": {},
   "outputs": [
    {
     "data": {
      "image/png": "[encoded data removed]",
      "text/plain": [
       "<PIL.PngImagePlugin.PngImageFile image mode=RGBA size=128x128 at 0x2862C382248>"
      ]
     },
     "execution_count": 50,
     "metadata": {},
     "output_type": "execute_result"
    }
   ],
   "source": [
    "photo_list[0]"
   ]
  },
  {
   "cell_type": "code",
   "execution_count": null,
   "id": "d1fa405e",
   "metadata": {},
   "outputs": [],
   "source": []
  }
 ],
 "metadata": {
  "kernelspec": {
   "display_name": "Python 3 (ipykernel)",
   "language": "python",
   "name": "python3"
  },
  "language_info": {
   "codemirror_mode": {
    "name": "ipython",
    "version": 3
   },
   "file_extension": ".py",
   "mimetype": "text/x-python",
   "name": "python",
   "nbconvert_exporter": "python",
   "pygments_lexer": "ipython3",
   "version": "3.7.11"
  }
 },
 "nbformat": 4,
 "nbformat_minor": 5
}
