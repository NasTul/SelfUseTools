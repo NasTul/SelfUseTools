{
 "cells": [
  {
   "cell_type": "code",
   "execution_count": 1,
   "id": "da136838",
   "metadata": {},
   "outputs": [],
   "source": [
    "from moviepy.editor import *\n"
   ]
  },
  {
   "cell_type": "code",
   "execution_count": 2,
   "id": "b49a7849",
   "metadata": {},
   "outputs": [],
   "source": [
    "clip = VideoFileClip(\"F:/PPGCoding/cohface/1/0/data.avi\").subclip(30,40)"
   ]
  },
  {
   "cell_type": "code",
   "execution_count": 3,
   "id": "c3074e30",
   "metadata": {},
   "outputs": [
    {
     "data": {
      "text/plain": [
       "<moviepy.video.io.VideoFileClip.VideoFileClip at 0x26f67170448>"
      ]
     },
     "execution_count": 3,
     "metadata": {},
     "output_type": "execute_result"
    }
   ],
   "source": [
    "clip"
   ]
  },
  {
   "cell_type": "code",
   "execution_count": 8,
   "id": "82e7a2be",
   "metadata": {},
   "outputs": [
    {
     "name": "stdout",
     "output_type": "stream",
     "text": [
      "Moviepy - Building video myHolidays_edited.webm.\n",
      "Moviepy - Writing video myHolidays_edited.webm\n",
      "\n"
     ]
    },
    {
     "name": "stderr",
     "output_type": "stream",
     "text": [
      "                                                               "
     ]
    },
    {
     "name": "stdout",
     "output_type": "stream",
     "text": [
      "Moviepy - Done !\n",
      "Moviepy - video ready myHolidays_edited.webm\n"
     ]
    },
    {
     "name": "stderr",
     "output_type": "stream",
     "text": [
      "\r"
     ]
    }
   ],
   "source": [
    "# txt_clip = TextClip(\"My Holidays 2013\",fontsize=10,color='white')\n",
    "# txt_clip = txt_clip.set_pos('center').set_duration(10)\n",
    "# video = CompositeVideoClip([clip, txt_clip])\n",
    "# video.write_videofile(\"myHolidays_edited.webm\")\n"
   ]
  },
  {
   "cell_type": "code",
   "execution_count": 7,
   "id": "c89cb746",
   "metadata": {},
   "outputs": [
    {
     "data": {
      "text/plain": [
       "<moviepy.video.compositing.CompositeVideoClip.CompositeVideoClip at 0x22c2e4b7448>"
      ]
     },
     "execution_count": 7,
     "metadata": {},
     "output_type": "execute_result"
    }
   ],
   "source": [
    "video"
   ]
  },
  {
   "cell_type": "code",
   "execution_count": null,
   "id": "8c6e4b80",
   "metadata": {},
   "outputs": [],
   "source": [
    "# detect face center\n",
    "\n",
    "\n",
    "# from moviepy.editor import VideoFileClip\n",
    "# from moviepy.video.tools.tracking import manual_tracking\n",
    "# clip = VideoFileClip(\"F:/PPGCoding/cohface/1/0/data.avi\").subclip(30,40)\n",
    "# # manually indicate 3 trajectories, save them to a file\n",
    "# trajectories = manual_tracking(clip, t1=5, t2=7, fps=5,\n",
    "#                                    nobjects=3, savefile=\"track.txt\")\n",
    "# # ...\n",
    "# # LATER, IN ANOTHER SCRIPT, RECOVER THESE TRAJECTORIES\n",
    "# from moviepy.video.tools.tracking import Trajectory\n",
    "# traj1, traj2, traj3 = Trajectory.load_list('track.txt')\n",
    "# # If ever you only have one object being tracked, recover it with\n",
    "# traj, =  Trajectory.load_list('track.txt')"
   ]
  },
  {
   "cell_type": "code",
   "execution_count": null,
   "id": "1c0e9d11",
   "metadata": {},
   "outputs": [],
   "source": []
  },
  {
   "cell_type": "code",
   "execution_count": 24,
   "id": "c4db83f5",
   "metadata": {},
   "outputs": [
    {
     "name": "stdout",
     "output_type": "stream",
     "text": [
      "MoviePy - Building file circle.gif with imageio.\n"
     ]
    },
    {
     "name": "stderr",
     "output_type": "stream",
     "text": [
      "                                                   \r"
     ]
    }
   ],
   "source": [
    "import gizeh\n",
    "import moviepy.editor as mpy\n",
    "\n",
    "def make_frame(t):\n",
    "    W=100\n",
    "    surface = gizeh.Surface(128,128) # width, height\n",
    "    ## 50 speed\n",
    "    radius = W*(1+ (t*(2-t))**50 )/6 # the radius varies over time\n",
    "    \n",
    "    # fill circle color\n",
    "    circle = gizeh.circle(radius, xy = (64,64), fill=(1,0,0))\n",
    "    circle.draw(surface)\n",
    "    return surface.get_npimage() # returns a 8-bit RGB array\n",
    "\n",
    "clip = mpy.VideoClip(make_frame, duration=1) # 2 seconds\n",
    "clip.write_gif(\"circle.gif\",fps=20)"
   ]
  },
  {
   "cell_type": "code",
   "execution_count": null,
   "id": "767f3439",
   "metadata": {},
   "outputs": [],
   "source": []
  }
 ],
 "metadata": {
  "kernelspec": {
   "display_name": "Python 3 (ipykernel)",
   "language": "python",
   "name": "python3"
  },
  "language_info": {
   "codemirror_mode": {
    "name": "ipython",
    "version": 3
   },
   "file_extension": ".py",
   "mimetype": "text/x-python",
   "name": "python",
   "nbconvert_exporter": "python",
   "pygments_lexer": "ipython3",
   "version": "3.7.11"
  }
 },
 "nbformat": 4,
 "nbformat_minor": 5
}
