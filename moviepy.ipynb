{
 "cells": [
  {
   "cell_type": "code",
   "execution_count": 1,
   "id": "da136838",
   "metadata": {},
   "outputs": [],
   "source": [
    "from moviepy.editor import *"
   ]
  },
  {
   "cell_type": "code",
   "execution_count": 2,
   "id": "b49a7849",
   "metadata": {},
   "outputs": [],
   "source": [
    "clip = VideoFileClip(\"F:/PPGCoding/cohface/1/0/data.avi\").subclip(30,40)"
   ]
  },
  {
   "cell_type": "code",
   "execution_count": 3,
   "id": "c3074e30",
   "metadata": {},
   "outputs": [
    {
     "data": {
      "text/plain": [
       "<moviepy.video.io.VideoFileClip.VideoFileClip at 0x26f67170448>"
      ]
     },
     "execution_count": 3,
     "metadata": {},
     "output_type": "execute_result"
    }
   ],
   "source": [
    "clip"
   ]
  },
  {
   "cell_type": "code",
   "execution_count": 8,
   "id": "82e7a2be",
   "metadata": {
    "scrolled": true
   },
   "outputs": [
    {
     "name": "stdout",
     "output_type": "stream",
     "text": [
      "Moviepy - Building video myHolidays_edited.webm.\n",
      "Moviepy - Writing video myHolidays_edited.webm\n",
      "\n"
     ]
    },
    {
     "name": "stderr",
     "output_type": "stream",
     "text": [
      "                                                               "
     ]
    },
    {
     "name": "stdout",
     "output_type": "stream",
     "text": [
      "Moviepy - Done !\n",
      "Moviepy - video ready myHolidays_edited.webm\n"
     ]
    },
    {
     "name": "stderr",
     "output_type": "stream",
     "text": [
      "\r"
     ]
    }
   ],
   "source": [
    "# txt_clip = TextClip(\"My Holidays 2013\",fontsize=10,color='white')\n",
    "# txt_clip = txt_clip.set_pos('center').set_duration(10)\n",
    "# video = CompositeVideoClip([clip, txt_clip])\n",
    "# video.write_videofile(\"myHolidays_edited.webm\")\n"
   ]
  },
  {
   "cell_type": "code",
   "execution_count": 7,
   "id": "c89cb746",
   "metadata": {},
   "outputs": [
    {
     "data": {
      "text/plain": [
       "<moviepy.video.compositing.CompositeVideoClip.CompositeVideoClip at 0x22c2e4b7448>"
      ]
     },
     "execution_count": 7,
     "metadata": {},
     "output_type": "execute_result"
    }
   ],
   "source": [
    "video"
   ]
  },
  {
   "cell_type": "code",
   "execution_count": null,
   "id": "8c6e4b80",
   "metadata": {},
   "outputs": [],
   "source": [
    "# detect face center\n",
    "\n",
    "\n",
    "# from moviepy.editor import VideoFileClip\n",
    "# from moviepy.video.tools.tracking import manual_tracking\n",
    "# clip = VideoFileClip(\"F:/PPGCoding/cohface/1/0/data.avi\").subclip(30,40)\n",
    "# # manually indicate 3 trajectories, save them to a file\n",
    "# trajectories = manual_tracking(clip, t1=5, t2=7, fps=5,\n",
    "#                                    nobjects=3, savefile=\"track.txt\")\n",
    "# # ...\n",
    "# # LATER, IN ANOTHER SCRIPT, RECOVER THESE TRAJECTORIES\n",
    "# from moviepy.video.tools.tracking import Trajectory\n",
    "# traj1, traj2, traj3 = Trajectory.load_list('track.txt')\n",
    "# # If ever you only have one object being tracked, recover it with\n",
    "# traj, =  Trajectory.load_list('track.txt')"
   ]
  },
  {
   "cell_type": "code",
   "execution_count": null,
   "id": "1c0e9d11",
   "metadata": {},
   "outputs": [],
   "source": []
  },
  {
   "cell_type": "code",
<<<<<<< HEAD
   "execution_count": 97,
=======
   "execution_count": 15,
>>>>>>> 7b1ee7b70ec348f665eda5ccadbecbcae8b34716
   "id": "c4db83f5",
   "metadata": {},
   "outputs": [
    {
     "name": "stdout",
     "output_type": "stream",
     "text": [
<<<<<<< HEAD
      "MoviePy - Building file my.gif with imageio.\n"
=======
      "MoviePy - Building file circle3.gif with imageio.\n"
>>>>>>> 7b1ee7b70ec348f665eda5ccadbecbcae8b34716
     ]
    },
    {
     "name": "stderr",
     "output_type": "stream",
     "text": [
<<<<<<< HEAD
      "                                                             \r"
=======
      "                                                                                \r"
>>>>>>> 7b1ee7b70ec348f665eda5ccadbecbcae8b34716
     ]
    }
   ],
   "source": [
    "## generate circle\n",
    "\n",
    "import gizeh\n",
    "import moviepy.editor as mpy\n",
    "\n",
<<<<<<< HEAD
    "W,H = 256,256 # width, height, in pixels\n",
    "duration = 2 # duration of the clip, in seconds\n",
    "\n",
    "def make_frame(t):\n",
    "    surface = gizeh.Surface(W,H,bg_color=(1,1,1,1))\n",
    "    radius = W*(0.1+ (t*(duration-t))**2 )/6\n",
    "    circle = gizeh.circle(radius, xy = (W/2.5,H/2.5), fill=(1,0,0,1))\n",
    "    circle.draw(surface)\n",
    "    \n",
    "    radius = W*(0.1+ (t*(duration-t))**2 )/6\n",
    "    circle = gizeh.circle(radius, xy = (W/1.5,H/2.5), fill=(0,1,0,1))\n",
=======
    "W,H = 500,500 # width, height, in pixels\n",
    "duration = 2.2 # duration of the clip, in seconds\n",
    "\n",
    "def make_frame(t):\n",
    "    surface = gizeh.Surface(W,H,bg_color=(1,1,0,1))\n",
    "    radius = W*(0.5+ (t*(duration-t))**5 )/10\n",
    "    circle = gizeh.circle(radius, xy = (W/2,H/2), fill=(1,0,0,1))\n",
>>>>>>> 7b1ee7b70ec348f665eda5ccadbecbcae8b34716
    "    circle.draw(surface)\n",
    "    \n",
    "    \n",
    "    radius = W*(0.1+ (t*(duration-t))**2 )/6\n",
    "    circle = gizeh.circle(radius, xy = (W/1.9,H/1.5), fill=(0,0,1,1))\n",
    "    circle.draw(surface)\n",
    "    \n",
    "    return surface.get_npimage()\n",
    "\n",
    "clip = mpy.VideoClip(make_frame, duration=duration)\n",
    "\n",
    "\n",
<<<<<<< HEAD
    "clip.write_gif(\"my.gif\",fps=20, opt=\"OptimizePlus\", fuzz=10 )"
=======
    "# clip.write_videofile(\"myHolidays_edited.webm\",fps=15)\n",
    "# clip1 = VideoFileClip(\"F:/PPGCoding/cohface/1/0/data.avi\").subclip(30,40)\n",
    "# video = CompositeVideoClip([clip1, clip])\n",
    "# video.write_videofile(\"myHolidays_edited.webm\")\n",
    "clip.write_gif(\"circle3.gif\",fps=35, opt=\"OptimizePlus\", fuzz=10 )"
>>>>>>> 7b1ee7b70ec348f665eda5ccadbecbcae8b34716
   ]
  },
  {
   "cell_type": "code",
   "execution_count": null,
   "id": "c0680ed9",
   "metadata": {},
   "outputs": [],
   "source": []
  },
  {
   "cell_type": "code",
   "execution_count": null,
   "id": "1d72329d",
   "metadata": {},
   "outputs": [],
   "source": []
  },
  {
   "cell_type": "code",
   "execution_count": null,
   "id": "78f92f63",
   "metadata": {},
   "outputs": [],
   "source": [
    "import gizeh\n",
    "import moviepy.editor as mpy\n",
    "\n",
    "clip1 = VideoFileClip(\"F:/PPGCoding/cohface/1/0/data.avi\").subclip(30,40)\n",
    "# video = CompositeVideoClip([clip1, clip])\n",
    "# video.write_videofile(\"myHolidays_edited.webm\")\n",
    "txtClip = TextClip('Cool effect',color=(0,0,0), font=\"Amiri-Bold\",\n",
    "                   kerning = 5, fontsize=100)\n",
    "\n",
    "video = CompositeVideoClip( [clip1,txtClip.set_pos('center').set_duration(10)])\n",
    "\n",
    "video.write_videofile(\"myHolidays_edited.webm\")"
   ]
  },
  {
   "cell_type": "code",
   "execution_count": null,
   "id": "860100fd",
   "metadata": {},
   "outputs": [],
   "source": []
  },
  {
   "cell_type": "code",
   "execution_count": null,
   "id": "aa2195db",
   "metadata": {},
   "outputs": [],
   "source": []
  },
  {
   "cell_type": "code",
<<<<<<< HEAD
   "execution_count": 98,
=======
   "execution_count": 16,
>>>>>>> 7b1ee7b70ec348f665eda5ccadbecbcae8b34716
   "id": "0fdf2390",
   "metadata": {},
   "outputs": [
    {
     "name": "stdout",
     "output_type": "stream",
     "text": [
      "no more images in GIF file\n"
     ]
    }
   ],
   "source": [
    "from PIL import Image\n",
<<<<<<< HEAD
    "\n",
    "string = 'my'\n",
    "img = Image.open(\"my.gif\")\n",
=======
    "  \n",
    "img = Image.open(\"circle3.gif\")\n",
>>>>>>> 7b1ee7b70ec348f665eda5ccadbecbcae8b34716
    "try:\n",
    "    flag = 0\n",
    "    while True:\n",
    "        #获取每一帧\n",
    "        img.seek(flag) \n",
    "        #保存\n",
    "        img.save(string+\"/{}.png\".format(flag))\n",
    "        pic = Image.open(string+\"/{}.png\".format(flag))\n",
    "        #转化\n",
    "        pic = pic.convert(\"RGBA\")\n",
    "        #替换背景为透明\n",
    "#         color = pic.getpixel((0,0))\n",
    "        color = (255, 76, 76, 255)\n",
    "        \n",
    "        \n",
    "        for i in range(pic.size[0]):\n",
    "            \n",
    "             for j in range(pic.size[1]):\n",
    "                dot = (i,j)\n",
    "                rgba = pic.getpixel(dot)\n",
    "                if rgba == color:\n",
    "                    rgba = rgba[:-1] + (0,)\n",
    "                    pic.putpixel(dot, rgba)\n",
    "         #保存\n",
    "        pic.save(string+\"/{}.png\".format(flag))\n",
    "        flag +=1\n",
    "except BaseException as e:\n",
    "    print(e)\n",
    "    pass"
   ]
  },
  {
   "cell_type": "code",
<<<<<<< HEAD
   "execution_count": 101,
   "id": "49749de1",
   "metadata": {},
   "outputs": [
    {
     "ename": "AttributeError",
     "evalue": "module 'imageio' has no attribute 'v3'",
     "output_type": "error",
     "traceback": [
      "\u001b[1;31m---------------------------------------------------------------------------\u001b[0m",
      "\u001b[1;31mAttributeError\u001b[0m                            Traceback (most recent call last)",
      "\u001b[1;32m~\\AppData\\Local\\Temp/ipykernel_1420/1043982578.py\u001b[0m in \u001b[0;36m<module>\u001b[1;34m\u001b[0m\n\u001b[0;32m      1\u001b[0m \u001b[1;32mimport\u001b[0m \u001b[0mimageio\u001b[0m \u001b[1;32mas\u001b[0m \u001b[0miio\u001b[0m\u001b[1;33m\u001b[0m\u001b[1;33m\u001b[0m\u001b[0m\n\u001b[1;32m----> 2\u001b[1;33m \u001b[0miio\u001b[0m\u001b[1;33m.\u001b[0m\u001b[0mv3\u001b[0m\u001b[1;33m.\u001b[0m\u001b[0mimwrite\u001b[0m\u001b[1;33m(\u001b[0m\u001b[1;34m\"transparent.gif\"\u001b[0m\u001b[1;33m,\u001b[0m \u001b[0mimages\u001b[0m\u001b[1;33m,\u001b[0m \u001b[0mplugin\u001b[0m\u001b[1;33m=\u001b[0m\u001b[1;34m\"pillow\"\u001b[0m\u001b[1;33m,\u001b[0m \u001b[0mmode\u001b[0m\u001b[1;33m=\u001b[0m\u001b[1;34m\"RGBA\"\u001b[0m\u001b[1;33m,\u001b[0m \u001b[0mduration\u001b[0m\u001b[1;33m=\u001b[0m\u001b[1;36m2\u001b[0m\u001b[1;33m,\u001b[0m \u001b[0mloop\u001b[0m\u001b[1;33m=\u001b[0m\u001b[1;36m0\u001b[0m\u001b[1;33m,\u001b[0m \u001b[0mtransparency\u001b[0m\u001b[1;33m=\u001b[0m\u001b[1;36m0\u001b[0m\u001b[1;33m)\u001b[0m\u001b[1;33m\u001b[0m\u001b[1;33m\u001b[0m\u001b[0m\n\u001b[0m",
      "\u001b[1;31mAttributeError\u001b[0m: module 'imageio' has no attribute 'v3'"
     ]
    }
   ],
   "source": [
    "import imageio as iio\n",
    "iio.v3.imwrite(\"transparent.gif\", images, plugin=\"pillow\", mode=\"RGBA\", duration=2, loop=0, transparency=0)\n"
   ]
  },
  {
   "cell_type": "code",
   "execution_count": null,
   "id": "800a995a",
   "metadata": {},
   "outputs": [],
   "source": []
  },
  {
   "cell_type": "code",
   "execution_count": null,
   "id": "24f3831e",
   "metadata": {},
   "outputs": [],
   "source": []
  },
  {
   "cell_type": "code",
   "execution_count": 100,
   "id": "4b871869",
   "metadata": {},
   "outputs": [
    {
     "ename": "TypeError",
     "evalue": "_open() got an unexpected keyword argument 'transparency'",
     "output_type": "error",
     "traceback": [
      "\u001b[1;31m---------------------------------------------------------------------------\u001b[0m",
      "\u001b[1;31mTypeError\u001b[0m                                 Traceback (most recent call last)",
      "\u001b[1;32m~\\AppData\\Local\\Temp/ipykernel_1420/394070578.py\u001b[0m in \u001b[0;36m<module>\u001b[1;34m\u001b[0m\n\u001b[0;32m      9\u001b[0m     \u001b[0mimages\u001b[0m\u001b[1;33m.\u001b[0m\u001b[0mappend\u001b[0m\u001b[1;33m(\u001b[0m\u001b[0mimageio\u001b[0m\u001b[1;33m.\u001b[0m\u001b[0mimread\u001b[0m\u001b[1;33m(\u001b[0m\u001b[0mstring\u001b[0m\u001b[1;33m+\u001b[0m\u001b[1;34m\"/\"\u001b[0m\u001b[1;33m+\u001b[0m\u001b[0mfilename\u001b[0m\u001b[1;33m)\u001b[0m\u001b[1;33m)\u001b[0m\u001b[1;33m\u001b[0m\u001b[1;33m\u001b[0m\u001b[0m\n\u001b[0;32m     10\u001b[0m \u001b[0mkargs\u001b[0m \u001b[1;33m=\u001b[0m \u001b[1;33m{\u001b[0m \u001b[1;34m'duration'\u001b[0m\u001b[1;33m:\u001b[0m \u001b[1;36m2\u001b[0m \u001b[1;33m}\u001b[0m\u001b[1;33m\u001b[0m\u001b[1;33m\u001b[0m\u001b[0m\n\u001b[1;32m---> 11\u001b[1;33m \u001b[0mimageio\u001b[0m\u001b[1;33m.\u001b[0m\u001b[0mmimsave\u001b[0m\u001b[1;33m(\u001b[0m\u001b[1;34m'my1.gif'\u001b[0m\u001b[1;33m,\u001b[0m \u001b[0mimages\u001b[0m\u001b[1;33m,\u001b[0m \u001b[0mtransparency\u001b[0m\u001b[1;33m=\u001b[0m\u001b[1;36m0\u001b[0m\u001b[1;33m,\u001b[0m \u001b[0mfps\u001b[0m\u001b[1;33m=\u001b[0m\u001b[1;36m30\u001b[0m \u001b[1;33m)\u001b[0m\u001b[1;33m\u001b[0m\u001b[1;33m\u001b[0m\u001b[0m\n\u001b[0m",
      "\u001b[1;32m~\\AppData\\Roaming\\Python\\Python37\\site-packages\\imageio\\core\\functions.py\u001b[0m in \u001b[0;36mmimwrite\u001b[1;34m(uri, ims, format, **kwargs)\u001b[0m\n\u001b[0;32m    395\u001b[0m     \"\"\"\n\u001b[0;32m    396\u001b[0m     \u001b[1;31m# Get writer\u001b[0m\u001b[1;33m\u001b[0m\u001b[1;33m\u001b[0m\u001b[1;33m\u001b[0m\u001b[0m\n\u001b[1;32m--> 397\u001b[1;33m     \u001b[0mwriter\u001b[0m \u001b[1;33m=\u001b[0m \u001b[0mget_writer\u001b[0m\u001b[1;33m(\u001b[0m\u001b[0muri\u001b[0m\u001b[1;33m,\u001b[0m \u001b[0mformat\u001b[0m\u001b[1;33m,\u001b[0m \u001b[1;34m\"I\"\u001b[0m\u001b[1;33m,\u001b[0m \u001b[1;33m**\u001b[0m\u001b[0mkwargs\u001b[0m\u001b[1;33m)\u001b[0m\u001b[1;33m\u001b[0m\u001b[1;33m\u001b[0m\u001b[0m\n\u001b[0m\u001b[0;32m    398\u001b[0m     \u001b[0mwritten\u001b[0m \u001b[1;33m=\u001b[0m \u001b[1;36m0\u001b[0m\u001b[1;33m\u001b[0m\u001b[1;33m\u001b[0m\u001b[0m\n\u001b[0;32m    399\u001b[0m \u001b[1;33m\u001b[0m\u001b[0m\n",
      "\u001b[1;32m~\\AppData\\Roaming\\Python\\Python37\\site-packages\\imageio\\core\\functions.py\u001b[0m in \u001b[0;36mget_writer\u001b[1;34m(uri, format, mode, **kwargs)\u001b[0m\n\u001b[0;32m    229\u001b[0m \u001b[1;33m\u001b[0m\u001b[0m\n\u001b[0;32m    230\u001b[0m     \u001b[1;31m# Return its writer object\u001b[0m\u001b[1;33m\u001b[0m\u001b[1;33m\u001b[0m\u001b[1;33m\u001b[0m\u001b[0m\n\u001b[1;32m--> 231\u001b[1;33m     \u001b[1;32mreturn\u001b[0m \u001b[0mformat\u001b[0m\u001b[1;33m.\u001b[0m\u001b[0mget_writer\u001b[0m\u001b[1;33m(\u001b[0m\u001b[0mrequest\u001b[0m\u001b[1;33m)\u001b[0m\u001b[1;33m\u001b[0m\u001b[1;33m\u001b[0m\u001b[0m\n\u001b[0m\u001b[0;32m    232\u001b[0m \u001b[1;33m\u001b[0m\u001b[0m\n\u001b[0;32m    233\u001b[0m \u001b[1;33m\u001b[0m\u001b[0m\n",
      "\u001b[1;32m~\\AppData\\Roaming\\Python\\Python37\\site-packages\\imageio\\core\\format.py\u001b[0m in \u001b[0;36mget_writer\u001b[1;34m(self, request)\u001b[0m\n\u001b[0;32m    183\u001b[0m                 \u001b[1;34m\"Format %s cannot write in %s mode\"\u001b[0m \u001b[1;33m%\u001b[0m \u001b[1;33m(\u001b[0m\u001b[0mself\u001b[0m\u001b[1;33m.\u001b[0m\u001b[0mname\u001b[0m\u001b[1;33m,\u001b[0m \u001b[0mmodename\u001b[0m\u001b[1;33m)\u001b[0m\u001b[1;33m\u001b[0m\u001b[1;33m\u001b[0m\u001b[0m\n\u001b[0;32m    184\u001b[0m             )\n\u001b[1;32m--> 185\u001b[1;33m         \u001b[1;32mreturn\u001b[0m \u001b[0mself\u001b[0m\u001b[1;33m.\u001b[0m\u001b[0mWriter\u001b[0m\u001b[1;33m(\u001b[0m\u001b[0mself\u001b[0m\u001b[1;33m,\u001b[0m \u001b[0mrequest\u001b[0m\u001b[1;33m)\u001b[0m\u001b[1;33m\u001b[0m\u001b[1;33m\u001b[0m\u001b[0m\n\u001b[0m\u001b[0;32m    186\u001b[0m \u001b[1;33m\u001b[0m\u001b[0m\n\u001b[0;32m    187\u001b[0m     \u001b[1;32mdef\u001b[0m \u001b[0mcan_read\u001b[0m\u001b[1;33m(\u001b[0m\u001b[0mself\u001b[0m\u001b[1;33m,\u001b[0m \u001b[0mrequest\u001b[0m\u001b[1;33m)\u001b[0m\u001b[1;33m:\u001b[0m\u001b[1;33m\u001b[0m\u001b[1;33m\u001b[0m\u001b[0m\n",
      "\u001b[1;32m~\\AppData\\Roaming\\Python\\Python37\\site-packages\\imageio\\core\\format.py\u001b[0m in \u001b[0;36m__init__\u001b[1;34m(self, format, request)\u001b[0m\n\u001b[0;32m    219\u001b[0m             \u001b[0mself\u001b[0m\u001b[1;33m.\u001b[0m\u001b[0m_request\u001b[0m \u001b[1;33m=\u001b[0m \u001b[0mrequest\u001b[0m\u001b[1;33m\u001b[0m\u001b[1;33m\u001b[0m\u001b[0m\n\u001b[0;32m    220\u001b[0m             \u001b[1;31m# Open the reader/writer\u001b[0m\u001b[1;33m\u001b[0m\u001b[1;33m\u001b[0m\u001b[1;33m\u001b[0m\u001b[0m\n\u001b[1;32m--> 221\u001b[1;33m             \u001b[0mself\u001b[0m\u001b[1;33m.\u001b[0m\u001b[0m_open\u001b[0m\u001b[1;33m(\u001b[0m\u001b[1;33m**\u001b[0m\u001b[0mself\u001b[0m\u001b[1;33m.\u001b[0m\u001b[0mrequest\u001b[0m\u001b[1;33m.\u001b[0m\u001b[0mkwargs\u001b[0m\u001b[1;33m.\u001b[0m\u001b[0mcopy\u001b[0m\u001b[1;33m(\u001b[0m\u001b[1;33m)\u001b[0m\u001b[1;33m)\u001b[0m\u001b[1;33m\u001b[0m\u001b[1;33m\u001b[0m\u001b[0m\n\u001b[0m\u001b[0;32m    222\u001b[0m \u001b[1;33m\u001b[0m\u001b[0m\n\u001b[0;32m    223\u001b[0m         \u001b[1;33m@\u001b[0m\u001b[0mproperty\u001b[0m\u001b[1;33m\u001b[0m\u001b[1;33m\u001b[0m\u001b[0m\n",
      "\u001b[1;31mTypeError\u001b[0m: _open() got an unexpected keyword argument 'transparency'"
     ]
    }
   ],
   "source": [
    "### problem transparency\n",
    "\n",
    "import imageio\n",
    "images = []\n",
    "pic_list = os.listdir(string+\"/\")\n",
    "#对图像List排序，防止图像位置错乱\n",
    "pic_list.sort(key=lambda x:int(x[:-4]))\n",
    "filenames = pic_list\n",
    "\n",
    "for filename in filenames:\n",
    "    images.append(imageio.imread(string+\"/\"+filename))\n",
    "kargs = { 'duration': 2 }\n",
    "imageio.mimsave('my1.gif', images, transparency=0, fps=30 )"
   ]
  },
  {
   "cell_type": "code",
   "execution_count": 102,
   "id": "53bd11bc",
   "metadata": {},
   "outputs": [
    {
     "data": {
      "text/plain": [
       "'my'"
      ]
     },
     "execution_count": 102,
     "metadata": {},
     "output_type": "execute_result"
    }
   ],
   "source": [
    "string"
   ]
  },
  {
   "cell_type": "code",
   "execution_count": 106,
=======
   "execution_count": 17,
>>>>>>> 7b1ee7b70ec348f665eda5ccadbecbcae8b34716
   "id": "f87622a1",
   "metadata": {},
   "outputs": [],
   "source": [
    "from PIL import Image\n",
    "import os\n",
    "photo_list = []\n",
    "#获取保存的PNG图像\n",
    "pic_list = os.listdir(string+\"/\")\n",
    "#对图像List排序，防止图像位置错乱\n",
    "pic_list.sort(key=lambda x:int(x[:-4]))\n",
    "for k in pic_list:\n",
    "    pic_p = Image.open(string+\"/{}\".format(k))\n",
    "    photo_list.append(pic_p)\n",
    "#保存图像，disposal可以为2或者3，但是不能为1或0，切记，其他自定义未尝试\n",
<<<<<<< HEAD
    "photo_list[0].save(string+\"2.gif\", save_all=True, append_images=photo_list[1:],duration=40,transparency=0,loop=0,disposal=3)\n"
=======
    "photo_list[0].save(\"new1.gif\", save_all=True, append_images=photo_list[1:],duration=40,transparency=0,loop=0,disposal=3)\n"
>>>>>>> 7b1ee7b70ec348f665eda5ccadbecbcae8b34716
   ]
  },
  {
   "cell_type": "code",
   "execution_count": null,
   "id": "1416a7f5",
   "metadata": {},
   "outputs": [],
   "source": []
  },
  {
   "cell_type": "code",
   "execution_count": 90,
   "id": "8086af41",
   "metadata": {},
   "outputs": [
    {
     "name": "stdout",
     "output_type": "stream",
     "text": [
      "MoviePy - Building file circles2.gif with imageio.\n"
     ]
    },
    {
     "name": "stderr",
     "output_type": "stream",
     "text": [
      "                                                             \r"
     ]
    }
   ],
   "source": [
    "### \n",
    "\n",
    "\n",
    "import numpy as np\n",
    "import gizeh\n",
    "import moviepy.editor as mpy\n",
    "\n",
    "W,H = 128,128\n",
    "duration = 2\n",
    "ncircles = 20 # Number of circles\n",
    "\n",
    "def make_frame(t):\n",
    "\n",
    "    surface = gizeh.Surface(W,H)\n",
    "\n",
    "    for i in range(ncircles):\n",
    "        angle = 2*np.pi*(1.0*i/ncircles+t/duration)\n",
    "        center = W*( 0.5+ gizeh.polar2cart(0.1,angle))\n",
    "        circle = gizeh.circle(r= W*(1.0-1.0*i/ncircles),\n",
    "                              xy= center, fill= (i%2,i%20,i%2))\n",
    "        circle.draw(surface)\n",
    "\n",
    "    return surface.get_npimage()\n",
    "\n",
    "clip = mpy.VideoClip(make_frame, duration=duration)\n",
    "clip.write_gif(\"circles2.gif\",fps=20, opt=\"OptimizePlus\", fuzz=10)"
   ]
  },
  {
   "cell_type": "code",
   "execution_count": null,
   "id": "0952987b",
   "metadata": {},
   "outputs": [],
   "source": []
  }
 ],
 "metadata": {
  "kernelspec": {
   "display_name": "Python 3 (ipykernel)",
   "language": "python",
   "name": "python3"
  },
  "language_info": {
   "codemirror_mode": {
    "name": "ipython",
    "version": 3
   },
   "file_extension": ".py",
   "mimetype": "text/x-python",
   "name": "python",
   "nbconvert_exporter": "python",
   "pygments_lexer": "ipython3",
   "version": "3.9.7"
  }
 },
 "nbformat": 4,
 "nbformat_minor": 5
}
