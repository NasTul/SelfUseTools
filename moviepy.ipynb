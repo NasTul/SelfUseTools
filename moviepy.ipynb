{
 "cells": [
  {
   "cell_type": "code",
   "execution_count": 1,
   "id": "5a87d4fb",
   "metadata": {},
   "outputs": [],
   "source": [
    "from moviepy.editor import *\n"
   ]
  },
  {
   "cell_type": "code",
   "execution_count": null,
   "id": "24acde02",
   "metadata": {},
   "outputs": [],
   "source": []
  },
  {
   "cell_type": "code",
   "execution_count": 2,
   "id": "d7471977",
   "metadata": {},
   "outputs": [],
   "source": [
    "clip = VideoFileClip(\"F:/PPGCoding/cohface/1/0/data.avi\").subclip(30,40)"
   ]
  },
  {
   "cell_type": "code",
   "execution_count": 3,
   "id": "8d926c87",
   "metadata": {},
   "outputs": [
    {
     "data": {
      "text/plain": [
       "<moviepy.video.io.VideoFileClip.VideoFileClip at 0x26f67170448>"
      ]
     },
     "execution_count": 3,
     "metadata": {},
     "output_type": "execute_result"
    }
   ],
   "source": [
    "clip"
   ]
  },
  {
   "cell_type": "code",
   "execution_count": 8,
   "id": "eba096cc",
   "metadata": {},
   "outputs": [
    {
     "name": "stdout",
     "output_type": "stream",
     "text": [
      "Moviepy - Building video myHolidays_edited.webm.\n",
      "Moviepy - Writing video myHolidays_edited.webm\n",
      "\n"
     ]
    },
    {
     "name": "stderr",
     "output_type": "stream",
     "text": [
      "                                                               "
     ]
    },
    {
     "name": "stdout",
     "output_type": "stream",
     "text": [
      "Moviepy - Done !\n",
      "Moviepy - video ready myHolidays_edited.webm\n"
     ]
    },
    {
     "name": "stderr",
     "output_type": "stream",
     "text": [
      "\r"
     ]
    }
   ],
   "source": [
    "# txt_clip = TextClip(\"My Holidays 2013\",fontsize=10,color='white')\n",
    "# txt_clip = txt_clip.set_pos('center').set_duration(10)\n",
    "# video = CompositeVideoClip([clip, txt_clip])\n",
    "# video.write_videofile(\"myHolidays_edited.webm\")\n"
   ]
  },
  {
   "cell_type": "code",
   "execution_count": 7,
   "id": "cd0c021b",
   "metadata": {},
   "outputs": [
    {
     "data": {
      "text/plain": [
       "<moviepy.video.compositing.CompositeVideoClip.CompositeVideoClip at 0x22c2e4b7448>"
      ]
     },
     "execution_count": 7,
     "metadata": {},
     "output_type": "execute_result"
    }
   ],
   "source": [
    "video"
   ]
  },
  {
   "cell_type": "code",
   "execution_count": null,
   "id": "df592342",
   "metadata": {},
   "outputs": [],
   "source": [
    "# detect face center\n",
    "\n",
    "\n",
    "# from moviepy.editor import VideoFileClip\n",
    "# from moviepy.video.tools.tracking import manual_tracking\n",
    "# clip = VideoFileClip(\"F:/PPGCoding/cohface/1/0/data.avi\").subclip(30,40)\n",
    "# # manually indicate 3 trajectories, save them to a file\n",
    "# trajectories = manual_tracking(clip, t1=5, t2=7, fps=5,\n",
    "#                                    nobjects=3, savefile=\"track.txt\")\n",
    "# # ...\n",
    "# # LATER, IN ANOTHER SCRIPT, RECOVER THESE TRAJECTORIES\n",
    "# from moviepy.video.tools.tracking import Trajectory\n",
    "# traj1, traj2, traj3 = Trajectory.load_list('track.txt')\n",
    "# # If ever you only have one object being tracked, recover it with\n",
    "# traj, =  Trajectory.load_list('track.txt')"
   ]
  }
 ],
 "metadata": {
  "kernelspec": {
   "display_name": "Python 3 (ipykernel)",
   "language": "python",
   "name": "python3"
  },
  "language_info": {
   "codemirror_mode": {
    "name": "ipython",
    "version": 3
   },
   "file_extension": ".py",
   "mimetype": "text/x-python",
   "name": "python",
   "nbconvert_exporter": "python",
   "pygments_lexer": "ipython3",
   "version": "3.7.11"
  }
 },
 "nbformat": 4,
 "nbformat_minor": 5
}
