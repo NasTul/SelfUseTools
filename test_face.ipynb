{
 "cells": [
  {
   "cell_type": "code",
   "execution_count": 1,
   "id": "94accbb8",
   "metadata": {},
   "outputs": [],
   "source": [
    "from moviepy.editor import *\n",
    "## generate circle\n",
    "\n",
    "import gizeh\n",
    "import moviepy.editor as mpy"
   ]
  },
  {
   "cell_type": "code",
   "execution_count": null,
   "id": "3cb3aefa",
   "metadata": {},
   "outputs": [],
   "source": [
    "clip = VideoFileClip(\"D:/vid_s1_T1_1.avi\")"
   ]
  },
  {
   "cell_type": "code",
   "execution_count": null,
   "id": "098a9264",
   "metadata": {},
   "outputs": [],
   "source": []
  },
  {
   "cell_type": "code",
   "execution_count": null,
   "id": "12def34f",
   "metadata": {},
   "outputs": [],
   "source": []
  },
  {
   "cell_type": "code",
   "execution_count": 4,
   "id": "ed3300d0",
   "metadata": {},
   "outputs": [],
   "source": [
    "clip = VideoFileClip(\"D:/output.mp4\").subclip(0,10)"
   ]
  },
  {
   "cell_type": "code",
   "execution_count": 5,
   "id": "31069a6e",
   "metadata": {
    "scrolled": true
   },
   "outputs": [
    {
     "name": "stderr",
     "output_type": "stream",
     "text": [
      "t:  32%|███▏      | 669/2110 [1:52:16<00:18, 76.18it/s, now=None]"
     ]
    },
    {
     "name": "stdout",
     "output_type": "stream",
     "text": [
      "Moviepy - Building video test.mp4.\n",
      "Moviepy - Writing video test.mp4\n",
      "\n"
     ]
    },
    {
     "name": "stderr",
     "output_type": "stream",
     "text": [
      "\n",
      "t:   0%|          | 0/352 [00:00<?, ?it/s, now=None]\u001b[A\n",
      "t:   1%|          | 2/352 [00:00<00:47,  7.30it/s, now=None]\u001b[A\n",
      "t:   7%|▋         | 25/352 [00:00<00:03, 82.69it/s, now=None]\u001b[A\n",
      "t:  14%|█▎        | 48/352 [00:00<00:02, 126.00it/s, now=None]\u001b[A\n",
      "t:  19%|█▉        | 68/352 [00:00<00:01, 147.25it/s, now=None]\u001b[A\n",
      "t:  25%|██▌       | 88/352 [00:00<00:01, 161.35it/s, now=None]\u001b[A\n",
      "t:  30%|███       | 107/352 [00:00<00:01, 166.95it/s, now=None]\u001b[A\n",
      "t:  36%|███▌      | 126/352 [00:00<00:01, 172.26it/s, now=None]\u001b[A\n",
      "t:  41%|████▏     | 146/352 [00:01<00:01, 177.83it/s, now=None]\u001b[A\n",
      "t:  47%|████▋     | 165/352 [00:01<00:01, 179.30it/s, now=None]\u001b[A\n",
      "t:  52%|█████▏    | 184/352 [00:01<00:00, 180.85it/s, now=None]\u001b[A\n",
      "t:  58%|█████▊    | 203/352 [00:01<00:00, 183.53it/s, now=None]\u001b[A\n",
      "t:  63%|██████▎   | 222/352 [00:01<00:00, 183.81it/s, now=None]\u001b[A\n",
      "t:  68%|██████▊   | 241/352 [00:01<00:00, 185.09it/s, now=None]\u001b[A\n",
      "t:  74%|███████▍  | 260/352 [00:01<00:00, 181.71it/s, now=None]\u001b[A\n",
      "t:  79%|███████▉  | 279/352 [00:01<00:00, 184.13it/s, now=None]\u001b[A\n",
      "t:  85%|████████▍ | 298/352 [00:01<00:00, 179.52it/s, now=None]\u001b[A\n",
      "t:  90%|█████████ | 318/352 [00:01<00:00, 185.43it/s, now=None]\u001b[A\n",
      "t:  96%|█████████▌| 337/352 [00:02<00:00, 186.22it/s, now=None]\u001b[A\n",
      "t:  32%|███▏      | 669/2110 [1:52:18<00:18, 76.18it/s, now=None]A"
     ]
    },
    {
     "name": "stdout",
     "output_type": "stream",
     "text": [
      "Moviepy - Done !\n",
      "Moviepy - video ready test.mp4\n"
     ]
    }
   ],
   "source": [
    "clip.write_videofile('test.mp4')"
   ]
  },
  {
   "cell_type": "code",
   "execution_count": 1,
   "id": "018f6c0d",
   "metadata": {},
   "outputs": [
    {
     "name": "stdout",
     "output_type": "stream",
     "text": [
      "pygame 2.1.2 (SDL 2.0.18, Python 3.7.11)\n",
      "Hello from the pygame community. https://www.pygame.org/contribute.html\n"
     ]
    }
   ],
   "source": [
    "from moviepy.video.tools.interpolators import Trajectory\n",
    "from moviepy.video.tools.tracking import manual_tracking"
   ]
  },
  {
   "cell_type": "code",
   "execution_count": null,
   "id": "9f3f2e5e",
   "metadata": {},
   "outputs": [],
   "source": []
  }
 ],
 "metadata": {
  "kernelspec": {
   "display_name": "Python 3 (ipykernel)",
   "language": "python",
   "name": "python3"
  },
  "language_info": {
   "codemirror_mode": {
    "name": "ipython",
    "version": 3
   },
   "file_extension": ".py",
   "mimetype": "text/x-python",
   "name": "python",
   "nbconvert_exporter": "python",
   "pygments_lexer": "ipython3",
   "version": "3.7.11"
  }
 },
 "nbformat": 4,
 "nbformat_minor": 5
}
